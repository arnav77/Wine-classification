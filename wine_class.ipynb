{
  "nbformat": 4,
  "nbformat_minor": 0,
  "metadata": {
    "colab": {
      "name": "wine_class.ipynb",
      "provenance": [],
      "collapsed_sections": [],
      "authorship_tag": "ABX9TyNB1EhZZIzan4LtSUQcAYB/",
      "include_colab_link": true
    },
    "kernelspec": {
      "name": "python3",
      "display_name": "Python 3"
    }
  },
  "cells": [
    {
      "cell_type": "markdown",
      "metadata": {
        "id": "view-in-github",
        "colab_type": "text"
      },
      "source": [
        "<a href=\"https://colab.research.google.com/github/arnav77/Wine-classification/blob/master/wine_class.ipynb\" target=\"_parent\"><img src=\"https://colab.research.google.com/assets/colab-badge.svg\" alt=\"Open In Colab\"/></a>"
      ]
    },
    {
      "cell_type": "code",
      "metadata": {
        "id": "Poi_KprBKgqY",
        "colab_type": "code",
        "outputId": "be1440c4-de59-41ca-ba2e-13f9436551ed",
        "colab": {
          "base_uri": "https://localhost:8080/",
          "height": 493
        }
      },
      "source": [
        "!wget \"https://archive.ics.uci.edu/ml/machine-learning-databases/wine-quality/winequality-red.csv\"\n",
        "!wget \"https://archive.ics.uci.edu/ml/machine-learning-databases/wine-quality/winequality-white.csv\"\n",
        "!wget \"https://www.sciencedirect.com/science/article/pii/S0167923609001377/pdfft?isDTMRedir=true&download=true\"\n",
        "## Link to paper that published this dataset :  https://reader.elsevier.com/reader/sd/pii/S0167923609001377?token=575E8254AB1294C5423422E33CCB3AF9634BF569E3DE21DEE2CB0B05EB613B307CC8F9DC64FCE91767615C7346131C9C\n"
      ],
      "execution_count": 0,
      "outputs": [
        {
          "output_type": "stream",
          "text": [
            "--2020-02-15 09:34:54--  https://archive.ics.uci.edu/ml/machine-learning-databases/wine-quality/winequality-red.csv\n",
            "Resolving archive.ics.uci.edu (archive.ics.uci.edu)... 128.195.10.252\n",
            "Connecting to archive.ics.uci.edu (archive.ics.uci.edu)|128.195.10.252|:443... connected.\n",
            "HTTP request sent, awaiting response... 200 OK\n",
            "Length: 84199 (82K) [application/x-httpd-php]\n",
            "Saving to: ‘winequality-red.csv’\n",
            "\n",
            "\rwinequality-red.csv   0%[                    ]       0  --.-KB/s               \rwinequality-red.csv 100%[===================>]  82.23K  --.-KB/s    in 0.06s   \n",
            "\n",
            "2020-02-15 09:34:54 (1.37 MB/s) - ‘winequality-red.csv’ saved [84199/84199]\n",
            "\n",
            "--2020-02-15 09:34:58--  https://archive.ics.uci.edu/ml/machine-learning-databases/wine-quality/winequality-white.csv\n",
            "Resolving archive.ics.uci.edu (archive.ics.uci.edu)... 128.195.10.252\n",
            "Connecting to archive.ics.uci.edu (archive.ics.uci.edu)|128.195.10.252|:443... connected.\n",
            "HTTP request sent, awaiting response... 200 OK\n",
            "Length: 264426 (258K) [application/x-httpd-php]\n",
            "Saving to: ‘winequality-white.csv’\n",
            "\n",
            "winequality-white.c 100%[===================>] 258.23K  --.-KB/s    in 0.1s    \n",
            "\n",
            "2020-02-15 09:34:58 (2.15 MB/s) - ‘winequality-white.csv’ saved [264426/264426]\n",
            "\n",
            "--2020-02-15 09:35:01--  https://www.sciencedirect.com/science/article/pii/S0167923609001377/pdfft?isDTMRedir=true&download=true\n",
            "Resolving www.sciencedirect.com (www.sciencedirect.com)... 162.159.129.81, 162.159.130.81\n",
            "Connecting to www.sciencedirect.com (www.sciencedirect.com)|162.159.129.81|:443... connected.\n",
            "HTTP request sent, awaiting response... 403 Forbidden\n",
            "2020-02-15 09:35:01 ERROR 403: Forbidden.\n",
            "\n"
          ],
          "name": "stdout"
        }
      ]
    },
    {
      "cell_type": "code",
      "metadata": {
        "id": "4WlshH98Kj-4",
        "colab_type": "code",
        "colab": {}
      },
      "source": [
        "import numpy as np\n",
        "import matplotlib.pyplot as plt\n",
        "import pandas as pd\n",
        "from matplotlib import style\n",
        "\n",
        "plt.ion()\n",
        "style.use('ggplot')"
      ],
      "execution_count": 0,
      "outputs": []
    },
    {
      "cell_type": "code",
      "metadata": {
        "id": "PjmtJtImKzfr",
        "colab_type": "code",
        "colab": {}
      },
      "source": [
        "#Import Dataset\n",
        "white_dataset = pd.read_csv('winequality-white.csv',header=0,sep=';')"
      ],
      "execution_count": 0,
      "outputs": []
    },
    {
      "cell_type": "code",
      "metadata": {
        "id": "npuzgyvBK2tt",
        "colab_type": "code",
        "outputId": "6882d618-577c-4219-8808-2ef5bd295425",
        "colab": {
          "base_uri": "https://localhost:8080/",
          "height": 436
        }
      },
      "source": [
        "white_dataset"
      ],
      "execution_count": 0,
      "outputs": [
        {
          "output_type": "execute_result",
          "data": {
            "text/html": [
              "<div>\n",
              "<style scoped>\n",
              "    .dataframe tbody tr th:only-of-type {\n",
              "        vertical-align: middle;\n",
              "    }\n",
              "\n",
              "    .dataframe tbody tr th {\n",
              "        vertical-align: top;\n",
              "    }\n",
              "\n",
              "    .dataframe thead th {\n",
              "        text-align: right;\n",
              "    }\n",
              "</style>\n",
              "<table border=\"1\" class=\"dataframe\">\n",
              "  <thead>\n",
              "    <tr style=\"text-align: right;\">\n",
              "      <th></th>\n",
              "      <th>fixed acidity</th>\n",
              "      <th>volatile acidity</th>\n",
              "      <th>citric acid</th>\n",
              "      <th>residual sugar</th>\n",
              "      <th>chlorides</th>\n",
              "      <th>free sulfur dioxide</th>\n",
              "      <th>total sulfur dioxide</th>\n",
              "      <th>density</th>\n",
              "      <th>pH</th>\n",
              "      <th>sulphates</th>\n",
              "      <th>alcohol</th>\n",
              "      <th>quality</th>\n",
              "    </tr>\n",
              "  </thead>\n",
              "  <tbody>\n",
              "    <tr>\n",
              "      <th>0</th>\n",
              "      <td>7.0</td>\n",
              "      <td>0.27</td>\n",
              "      <td>0.36</td>\n",
              "      <td>20.7</td>\n",
              "      <td>0.045</td>\n",
              "      <td>45.0</td>\n",
              "      <td>170.0</td>\n",
              "      <td>1.00100</td>\n",
              "      <td>3.00</td>\n",
              "      <td>0.45</td>\n",
              "      <td>8.8</td>\n",
              "      <td>6</td>\n",
              "    </tr>\n",
              "    <tr>\n",
              "      <th>1</th>\n",
              "      <td>6.3</td>\n",
              "      <td>0.30</td>\n",
              "      <td>0.34</td>\n",
              "      <td>1.6</td>\n",
              "      <td>0.049</td>\n",
              "      <td>14.0</td>\n",
              "      <td>132.0</td>\n",
              "      <td>0.99400</td>\n",
              "      <td>3.30</td>\n",
              "      <td>0.49</td>\n",
              "      <td>9.5</td>\n",
              "      <td>6</td>\n",
              "    </tr>\n",
              "    <tr>\n",
              "      <th>2</th>\n",
              "      <td>8.1</td>\n",
              "      <td>0.28</td>\n",
              "      <td>0.40</td>\n",
              "      <td>6.9</td>\n",
              "      <td>0.050</td>\n",
              "      <td>30.0</td>\n",
              "      <td>97.0</td>\n",
              "      <td>0.99510</td>\n",
              "      <td>3.26</td>\n",
              "      <td>0.44</td>\n",
              "      <td>10.1</td>\n",
              "      <td>6</td>\n",
              "    </tr>\n",
              "    <tr>\n",
              "      <th>3</th>\n",
              "      <td>7.2</td>\n",
              "      <td>0.23</td>\n",
              "      <td>0.32</td>\n",
              "      <td>8.5</td>\n",
              "      <td>0.058</td>\n",
              "      <td>47.0</td>\n",
              "      <td>186.0</td>\n",
              "      <td>0.99560</td>\n",
              "      <td>3.19</td>\n",
              "      <td>0.40</td>\n",
              "      <td>9.9</td>\n",
              "      <td>6</td>\n",
              "    </tr>\n",
              "    <tr>\n",
              "      <th>4</th>\n",
              "      <td>7.2</td>\n",
              "      <td>0.23</td>\n",
              "      <td>0.32</td>\n",
              "      <td>8.5</td>\n",
              "      <td>0.058</td>\n",
              "      <td>47.0</td>\n",
              "      <td>186.0</td>\n",
              "      <td>0.99560</td>\n",
              "      <td>3.19</td>\n",
              "      <td>0.40</td>\n",
              "      <td>9.9</td>\n",
              "      <td>6</td>\n",
              "    </tr>\n",
              "    <tr>\n",
              "      <th>...</th>\n",
              "      <td>...</td>\n",
              "      <td>...</td>\n",
              "      <td>...</td>\n",
              "      <td>...</td>\n",
              "      <td>...</td>\n",
              "      <td>...</td>\n",
              "      <td>...</td>\n",
              "      <td>...</td>\n",
              "      <td>...</td>\n",
              "      <td>...</td>\n",
              "      <td>...</td>\n",
              "      <td>...</td>\n",
              "    </tr>\n",
              "    <tr>\n",
              "      <th>4893</th>\n",
              "      <td>6.2</td>\n",
              "      <td>0.21</td>\n",
              "      <td>0.29</td>\n",
              "      <td>1.6</td>\n",
              "      <td>0.039</td>\n",
              "      <td>24.0</td>\n",
              "      <td>92.0</td>\n",
              "      <td>0.99114</td>\n",
              "      <td>3.27</td>\n",
              "      <td>0.50</td>\n",
              "      <td>11.2</td>\n",
              "      <td>6</td>\n",
              "    </tr>\n",
              "    <tr>\n",
              "      <th>4894</th>\n",
              "      <td>6.6</td>\n",
              "      <td>0.32</td>\n",
              "      <td>0.36</td>\n",
              "      <td>8.0</td>\n",
              "      <td>0.047</td>\n",
              "      <td>57.0</td>\n",
              "      <td>168.0</td>\n",
              "      <td>0.99490</td>\n",
              "      <td>3.15</td>\n",
              "      <td>0.46</td>\n",
              "      <td>9.6</td>\n",
              "      <td>5</td>\n",
              "    </tr>\n",
              "    <tr>\n",
              "      <th>4895</th>\n",
              "      <td>6.5</td>\n",
              "      <td>0.24</td>\n",
              "      <td>0.19</td>\n",
              "      <td>1.2</td>\n",
              "      <td>0.041</td>\n",
              "      <td>30.0</td>\n",
              "      <td>111.0</td>\n",
              "      <td>0.99254</td>\n",
              "      <td>2.99</td>\n",
              "      <td>0.46</td>\n",
              "      <td>9.4</td>\n",
              "      <td>6</td>\n",
              "    </tr>\n",
              "    <tr>\n",
              "      <th>4896</th>\n",
              "      <td>5.5</td>\n",
              "      <td>0.29</td>\n",
              "      <td>0.30</td>\n",
              "      <td>1.1</td>\n",
              "      <td>0.022</td>\n",
              "      <td>20.0</td>\n",
              "      <td>110.0</td>\n",
              "      <td>0.98869</td>\n",
              "      <td>3.34</td>\n",
              "      <td>0.38</td>\n",
              "      <td>12.8</td>\n",
              "      <td>7</td>\n",
              "    </tr>\n",
              "    <tr>\n",
              "      <th>4897</th>\n",
              "      <td>6.0</td>\n",
              "      <td>0.21</td>\n",
              "      <td>0.38</td>\n",
              "      <td>0.8</td>\n",
              "      <td>0.020</td>\n",
              "      <td>22.0</td>\n",
              "      <td>98.0</td>\n",
              "      <td>0.98941</td>\n",
              "      <td>3.26</td>\n",
              "      <td>0.32</td>\n",
              "      <td>11.8</td>\n",
              "      <td>6</td>\n",
              "    </tr>\n",
              "  </tbody>\n",
              "</table>\n",
              "<p>4898 rows × 12 columns</p>\n",
              "</div>"
            ],
            "text/plain": [
              "      fixed acidity  volatile acidity  citric acid  ...  sulphates  alcohol  quality\n",
              "0               7.0              0.27         0.36  ...       0.45      8.8        6\n",
              "1               6.3              0.30         0.34  ...       0.49      9.5        6\n",
              "2               8.1              0.28         0.40  ...       0.44     10.1        6\n",
              "3               7.2              0.23         0.32  ...       0.40      9.9        6\n",
              "4               7.2              0.23         0.32  ...       0.40      9.9        6\n",
              "...             ...               ...          ...  ...        ...      ...      ...\n",
              "4893            6.2              0.21         0.29  ...       0.50     11.2        6\n",
              "4894            6.6              0.32         0.36  ...       0.46      9.6        5\n",
              "4895            6.5              0.24         0.19  ...       0.46      9.4        6\n",
              "4896            5.5              0.29         0.30  ...       0.38     12.8        7\n",
              "4897            6.0              0.21         0.38  ...       0.32     11.8        6\n",
              "\n",
              "[4898 rows x 12 columns]"
            ]
          },
          "metadata": {
            "tags": []
          },
          "execution_count": 4
        }
      ]
    },
    {
      "cell_type": "code",
      "metadata": {
        "id": "hB1ipL8YK9sD",
        "colab_type": "code",
        "outputId": "fe069369-5e7f-4ec4-983b-439d4334e746",
        "colab": {
          "base_uri": "https://localhost:8080/",
          "height": 34
        }
      },
      "source": [
        "white_dataset.shape"
      ],
      "execution_count": 0,
      "outputs": [
        {
          "output_type": "execute_result",
          "data": {
            "text/plain": [
              "(4898, 12)"
            ]
          },
          "metadata": {
            "tags": []
          },
          "execution_count": 5
        }
      ]
    },
    {
      "cell_type": "code",
      "metadata": {
        "id": "bUryAcFnLELs",
        "colab_type": "code",
        "colab": {}
      },
      "source": [
        "input_data = white_dataset.iloc[:,:-1]"
      ],
      "execution_count": 0,
      "outputs": []
    },
    {
      "cell_type": "code",
      "metadata": {
        "id": "Wp25jarpLGy8",
        "colab_type": "code",
        "outputId": "ec262aed-fc1a-4cd2-8bde-003b97a6dc1a",
        "colab": {
          "base_uri": "https://localhost:8080/",
          "height": 419
        }
      },
      "source": [
        "input_data"
      ],
      "execution_count": 0,
      "outputs": [
        {
          "output_type": "execute_result",
          "data": {
            "text/html": [
              "<div>\n",
              "<style scoped>\n",
              "    .dataframe tbody tr th:only-of-type {\n",
              "        vertical-align: middle;\n",
              "    }\n",
              "\n",
              "    .dataframe tbody tr th {\n",
              "        vertical-align: top;\n",
              "    }\n",
              "\n",
              "    .dataframe thead th {\n",
              "        text-align: right;\n",
              "    }\n",
              "</style>\n",
              "<table border=\"1\" class=\"dataframe\">\n",
              "  <thead>\n",
              "    <tr style=\"text-align: right;\">\n",
              "      <th></th>\n",
              "      <th>fixed acidity</th>\n",
              "      <th>volatile acidity</th>\n",
              "      <th>citric acid</th>\n",
              "      <th>residual sugar</th>\n",
              "      <th>chlorides</th>\n",
              "      <th>free sulfur dioxide</th>\n",
              "      <th>total sulfur dioxide</th>\n",
              "      <th>density</th>\n",
              "      <th>pH</th>\n",
              "      <th>sulphates</th>\n",
              "      <th>alcohol</th>\n",
              "    </tr>\n",
              "  </thead>\n",
              "  <tbody>\n",
              "    <tr>\n",
              "      <th>0</th>\n",
              "      <td>7.0</td>\n",
              "      <td>0.27</td>\n",
              "      <td>0.36</td>\n",
              "      <td>20.7</td>\n",
              "      <td>0.045</td>\n",
              "      <td>45.0</td>\n",
              "      <td>170.0</td>\n",
              "      <td>1.00100</td>\n",
              "      <td>3.00</td>\n",
              "      <td>0.45</td>\n",
              "      <td>8.8</td>\n",
              "    </tr>\n",
              "    <tr>\n",
              "      <th>1</th>\n",
              "      <td>6.3</td>\n",
              "      <td>0.30</td>\n",
              "      <td>0.34</td>\n",
              "      <td>1.6</td>\n",
              "      <td>0.049</td>\n",
              "      <td>14.0</td>\n",
              "      <td>132.0</td>\n",
              "      <td>0.99400</td>\n",
              "      <td>3.30</td>\n",
              "      <td>0.49</td>\n",
              "      <td>9.5</td>\n",
              "    </tr>\n",
              "    <tr>\n",
              "      <th>2</th>\n",
              "      <td>8.1</td>\n",
              "      <td>0.28</td>\n",
              "      <td>0.40</td>\n",
              "      <td>6.9</td>\n",
              "      <td>0.050</td>\n",
              "      <td>30.0</td>\n",
              "      <td>97.0</td>\n",
              "      <td>0.99510</td>\n",
              "      <td>3.26</td>\n",
              "      <td>0.44</td>\n",
              "      <td>10.1</td>\n",
              "    </tr>\n",
              "    <tr>\n",
              "      <th>3</th>\n",
              "      <td>7.2</td>\n",
              "      <td>0.23</td>\n",
              "      <td>0.32</td>\n",
              "      <td>8.5</td>\n",
              "      <td>0.058</td>\n",
              "      <td>47.0</td>\n",
              "      <td>186.0</td>\n",
              "      <td>0.99560</td>\n",
              "      <td>3.19</td>\n",
              "      <td>0.40</td>\n",
              "      <td>9.9</td>\n",
              "    </tr>\n",
              "    <tr>\n",
              "      <th>4</th>\n",
              "      <td>7.2</td>\n",
              "      <td>0.23</td>\n",
              "      <td>0.32</td>\n",
              "      <td>8.5</td>\n",
              "      <td>0.058</td>\n",
              "      <td>47.0</td>\n",
              "      <td>186.0</td>\n",
              "      <td>0.99560</td>\n",
              "      <td>3.19</td>\n",
              "      <td>0.40</td>\n",
              "      <td>9.9</td>\n",
              "    </tr>\n",
              "    <tr>\n",
              "      <th>...</th>\n",
              "      <td>...</td>\n",
              "      <td>...</td>\n",
              "      <td>...</td>\n",
              "      <td>...</td>\n",
              "      <td>...</td>\n",
              "      <td>...</td>\n",
              "      <td>...</td>\n",
              "      <td>...</td>\n",
              "      <td>...</td>\n",
              "      <td>...</td>\n",
              "      <td>...</td>\n",
              "    </tr>\n",
              "    <tr>\n",
              "      <th>4893</th>\n",
              "      <td>6.2</td>\n",
              "      <td>0.21</td>\n",
              "      <td>0.29</td>\n",
              "      <td>1.6</td>\n",
              "      <td>0.039</td>\n",
              "      <td>24.0</td>\n",
              "      <td>92.0</td>\n",
              "      <td>0.99114</td>\n",
              "      <td>3.27</td>\n",
              "      <td>0.50</td>\n",
              "      <td>11.2</td>\n",
              "    </tr>\n",
              "    <tr>\n",
              "      <th>4894</th>\n",
              "      <td>6.6</td>\n",
              "      <td>0.32</td>\n",
              "      <td>0.36</td>\n",
              "      <td>8.0</td>\n",
              "      <td>0.047</td>\n",
              "      <td>57.0</td>\n",
              "      <td>168.0</td>\n",
              "      <td>0.99490</td>\n",
              "      <td>3.15</td>\n",
              "      <td>0.46</td>\n",
              "      <td>9.6</td>\n",
              "    </tr>\n",
              "    <tr>\n",
              "      <th>4895</th>\n",
              "      <td>6.5</td>\n",
              "      <td>0.24</td>\n",
              "      <td>0.19</td>\n",
              "      <td>1.2</td>\n",
              "      <td>0.041</td>\n",
              "      <td>30.0</td>\n",
              "      <td>111.0</td>\n",
              "      <td>0.99254</td>\n",
              "      <td>2.99</td>\n",
              "      <td>0.46</td>\n",
              "      <td>9.4</td>\n",
              "    </tr>\n",
              "    <tr>\n",
              "      <th>4896</th>\n",
              "      <td>5.5</td>\n",
              "      <td>0.29</td>\n",
              "      <td>0.30</td>\n",
              "      <td>1.1</td>\n",
              "      <td>0.022</td>\n",
              "      <td>20.0</td>\n",
              "      <td>110.0</td>\n",
              "      <td>0.98869</td>\n",
              "      <td>3.34</td>\n",
              "      <td>0.38</td>\n",
              "      <td>12.8</td>\n",
              "    </tr>\n",
              "    <tr>\n",
              "      <th>4897</th>\n",
              "      <td>6.0</td>\n",
              "      <td>0.21</td>\n",
              "      <td>0.38</td>\n",
              "      <td>0.8</td>\n",
              "      <td>0.020</td>\n",
              "      <td>22.0</td>\n",
              "      <td>98.0</td>\n",
              "      <td>0.98941</td>\n",
              "      <td>3.26</td>\n",
              "      <td>0.32</td>\n",
              "      <td>11.8</td>\n",
              "    </tr>\n",
              "  </tbody>\n",
              "</table>\n",
              "<p>4898 rows × 11 columns</p>\n",
              "</div>"
            ],
            "text/plain": [
              "      fixed acidity  volatile acidity  citric acid  ...    pH  sulphates  alcohol\n",
              "0               7.0              0.27         0.36  ...  3.00       0.45      8.8\n",
              "1               6.3              0.30         0.34  ...  3.30       0.49      9.5\n",
              "2               8.1              0.28         0.40  ...  3.26       0.44     10.1\n",
              "3               7.2              0.23         0.32  ...  3.19       0.40      9.9\n",
              "4               7.2              0.23         0.32  ...  3.19       0.40      9.9\n",
              "...             ...               ...          ...  ...   ...        ...      ...\n",
              "4893            6.2              0.21         0.29  ...  3.27       0.50     11.2\n",
              "4894            6.6              0.32         0.36  ...  3.15       0.46      9.6\n",
              "4895            6.5              0.24         0.19  ...  2.99       0.46      9.4\n",
              "4896            5.5              0.29         0.30  ...  3.34       0.38     12.8\n",
              "4897            6.0              0.21         0.38  ...  3.26       0.32     11.8\n",
              "\n",
              "[4898 rows x 11 columns]"
            ]
          },
          "metadata": {
            "tags": []
          },
          "execution_count": 7
        }
      ]
    },
    {
      "cell_type": "code",
      "metadata": {
        "id": "XLnXqEHaLNMa",
        "colab_type": "code",
        "colab": {}
      },
      "source": [
        "output_data = white_dataset.iloc[:,-1]"
      ],
      "execution_count": 0,
      "outputs": []
    },
    {
      "cell_type": "code",
      "metadata": {
        "id": "LI0Atr4qLP3I",
        "colab_type": "code",
        "outputId": "384e9854-2df3-48b2-9206-0dd94009e196",
        "colab": {
          "base_uri": "https://localhost:8080/",
          "height": 221
        }
      },
      "source": [
        "output_data"
      ],
      "execution_count": 0,
      "outputs": [
        {
          "output_type": "execute_result",
          "data": {
            "text/plain": [
              "0       6\n",
              "1       6\n",
              "2       6\n",
              "3       6\n",
              "4       6\n",
              "       ..\n",
              "4893    6\n",
              "4894    5\n",
              "4895    6\n",
              "4896    7\n",
              "4897    6\n",
              "Name: quality, Length: 4898, dtype: int64"
            ]
          },
          "metadata": {
            "tags": []
          },
          "execution_count": 9
        }
      ]
    },
    {
      "cell_type": "code",
      "metadata": {
        "id": "LSZWshpXLScI",
        "colab_type": "code",
        "colab": {}
      },
      "source": [
        "X = np.array(input_data)"
      ],
      "execution_count": 0,
      "outputs": []
    },
    {
      "cell_type": "code",
      "metadata": {
        "id": "TA3265cuLhsc",
        "colab_type": "code",
        "colab": {}
      },
      "source": [
        "Y = np.array(output_data)"
      ],
      "execution_count": 0,
      "outputs": []
    },
    {
      "cell_type": "code",
      "metadata": {
        "id": "jmXV3GrYLpnH",
        "colab_type": "code",
        "colab": {}
      },
      "source": [
        "Y  = Y.reshape(-1,1)"
      ],
      "execution_count": 0,
      "outputs": []
    },
    {
      "cell_type": "code",
      "metadata": {
        "id": "-7pAc2GELrwp",
        "colab_type": "code",
        "colab": {}
      },
      "source": [
        "#Visualization"
      ],
      "execution_count": 0,
      "outputs": []
    },
    {
      "cell_type": "code",
      "metadata": {
        "id": "aYC5pAMGLv9P",
        "colab_type": "code",
        "outputId": "b603220f-29fa-46ff-a860-126f074453b5",
        "colab": {
          "base_uri": "https://localhost:8080/",
          "height": 34
        }
      },
      "source": [
        "np.mean(Y)"
      ],
      "execution_count": 0,
      "outputs": [
        {
          "output_type": "execute_result",
          "data": {
            "text/plain": [
              "5.87790935075541"
            ]
          },
          "metadata": {
            "tags": []
          },
          "execution_count": 14
        }
      ]
    },
    {
      "cell_type": "code",
      "metadata": {
        "id": "87p9-a53MX3x",
        "colab_type": "code",
        "outputId": "fdc7aa2b-48e1-4c7c-c283-7f484e560318",
        "colab": {
          "base_uri": "https://localhost:8080/",
          "height": 51
        }
      },
      "source": [
        "print(np.max(Y))\n",
        "print(np.min(Y))"
      ],
      "execution_count": 0,
      "outputs": [
        {
          "output_type": "stream",
          "text": [
            "9\n",
            "3\n"
          ],
          "name": "stdout"
        }
      ]
    },
    {
      "cell_type": "code",
      "metadata": {
        "id": "OdomB96-MdOe",
        "colab_type": "code",
        "outputId": "63757fc9-8a95-4b80-d54a-9eafc965ced6",
        "colab": {
          "base_uri": "https://localhost:8080/",
          "height": 333
        }
      },
      "source": [
        "plt.hist(Y,edgecolor = 'black')"
      ],
      "execution_count": 0,
      "outputs": [
        {
          "output_type": "execute_result",
          "data": {
            "text/plain": [
              "(array([  20.,  163.,    0., 1457.,    0., 2198.,  880.,    0.,  175.,\n",
              "           5.]),\n",
              " array([3. , 3.6, 4.2, 4.8, 5.4, 6. , 6.6, 7.2, 7.8, 8.4, 9. ]),\n",
              " <a list of 10 Patch objects>)"
            ]
          },
          "metadata": {
            "tags": []
          },
          "execution_count": 16
        },
        {
          "output_type": "display_data",
          "data": {
            "image/png": "[encoded data removed]",
            "text/plain": [
              "<Figure size 432x288 with 1 Axes>"
            ]
          },
          "metadata": {
            "tags": []
          }
        }
      ]
    },
    {
      "cell_type": "code",
      "metadata": {
        "id": "gIkuIoZBMilc",
        "colab_type": "code",
        "outputId": "21d851e9-33ed-4914-e5da-08add5314893",
        "colab": {
          "base_uri": "https://localhost:8080/",
          "height": 136
        }
      },
      "source": [
        "X"
      ],
      "execution_count": 0,
      "outputs": [
        {
          "output_type": "execute_result",
          "data": {
            "text/plain": [
              "array([[ 7.  ,  0.27,  0.36, ...,  3.  ,  0.45,  8.8 ],\n",
              "       [ 6.3 ,  0.3 ,  0.34, ...,  3.3 ,  0.49,  9.5 ],\n",
              "       [ 8.1 ,  0.28,  0.4 , ...,  3.26,  0.44, 10.1 ],\n",
              "       ...,\n",
              "       [ 6.5 ,  0.24,  0.19, ...,  2.99,  0.46,  9.4 ],\n",
              "       [ 5.5 ,  0.29,  0.3 , ...,  3.34,  0.38, 12.8 ],\n",
              "       [ 6.  ,  0.21,  0.38, ...,  3.26,  0.32, 11.8 ]])"
            ]
          },
          "metadata": {
            "tags": []
          },
          "execution_count": 17
        }
      ]
    },
    {
      "cell_type": "code",
      "metadata": {
        "id": "JUdac9CIMsaB",
        "colab_type": "code",
        "colab": {}
      },
      "source": [
        "mu = np.mean(X,axis=0)"
      ],
      "execution_count": 0,
      "outputs": []
    },
    {
      "cell_type": "code",
      "metadata": {
        "id": "k281aP1GNOcE",
        "colab_type": "code",
        "outputId": "e49690b6-5df8-4f9c-a8d4-0eba1533ff5d",
        "colab": {
          "base_uri": "https://localhost:8080/",
          "height": 34
        }
      },
      "source": [
        "mu.shape"
      ],
      "execution_count": 0,
      "outputs": [
        {
          "output_type": "execute_result",
          "data": {
            "text/plain": [
              "(11,)"
            ]
          },
          "metadata": {
            "tags": []
          },
          "execution_count": 19
        }
      ]
    },
    {
      "cell_type": "code",
      "metadata": {
        "id": "NIKAzEggNQTR",
        "colab_type": "code",
        "colab": {}
      },
      "source": [
        "mu = mu.reshape(1,11)"
      ],
      "execution_count": 0,
      "outputs": []
    },
    {
      "cell_type": "code",
      "metadata": {
        "id": "ZR7TWwjTNWcT",
        "colab_type": "code",
        "colab": {}
      },
      "source": [
        "X = X - mu"
      ],
      "execution_count": 0,
      "outputs": []
    },
    {
      "cell_type": "code",
      "metadata": {
        "id": "8nLq0DTdNfIe",
        "colab_type": "code",
        "outputId": "2cc957a9-2a0d-4886-c8d0-6c133b35da30",
        "colab": {
          "base_uri": "https://localhost:8080/",
          "height": 238
        }
      },
      "source": [
        "X"
      ],
      "execution_count": 0,
      "outputs": [
        {
          "output_type": "execute_result",
          "data": {
            "text/plain": [
              "array([[ 1.45212332e-01, -8.24111882e-03,  2.58084933e-02, ...,\n",
              "        -1.88266639e-01, -3.98468763e-02, -1.71426705e+00],\n",
              "       [-5.54787668e-01,  2.17588812e-02,  5.80849326e-03, ...,\n",
              "         1.11733361e-01,  1.53123724e-04, -1.01426705e+00],\n",
              "       [ 1.24521233e+00,  1.75888118e-03,  6.58084933e-02, ...,\n",
              "         7.17333606e-02, -4.98468763e-02, -4.14267048e-01],\n",
              "       ...,\n",
              "       [-3.54787668e-01, -3.82411188e-02, -1.44191507e-01, ...,\n",
              "        -1.98266639e-01, -2.98468763e-02, -1.11426705e+00],\n",
              "       [-1.35478767e+00,  1.17588812e-02, -3.41915067e-02, ...,\n",
              "         1.51733361e-01, -1.09846876e-01,  2.28573295e+00],\n",
              "       [-8.54787668e-01, -6.82411188e-02,  4.58084933e-02, ...,\n",
              "         7.17333606e-02, -1.69846876e-01,  1.28573295e+00]])"
            ]
          },
          "metadata": {
            "tags": []
          },
          "execution_count": 22
        }
      ]
    },
    {
      "cell_type": "code",
      "metadata": {
        "id": "mzopd_qGOEvU",
        "colab_type": "code",
        "colab": {}
      },
      "source": [
        "X = X/np.std(X,axis=0)"
      ],
      "execution_count": 0,
      "outputs": []
    },
    {
      "cell_type": "code",
      "metadata": {
        "id": "i0QhXE9CORiw",
        "colab_type": "code",
        "colab": {}
      },
      "source": [
        "def split_dataset(x,y,fraction=0.5):\n",
        "  xtrain = []\n",
        "  ytrain = []\n",
        "  xtest = []\n",
        "  ytest = []\n",
        "  testlen = int(fraction*x.shape[0])\n",
        "  randomindex = np.random.randint(0,x.shape[0]-testlen)\n",
        "  xtest = x[randomindex:randomindex+testlen]\n",
        "  ytest = y[randomindex:randomindex+testlen]\n",
        "  print(randomindex)\n",
        "  print(testlen)\n",
        "  xtrain = np.concatenate((x[:randomindex,:],x[randomindex+testlen:,:]))\n",
        "  ytrain = np.concatenate((y[:randomindex],y[randomindex+testlen:]))\n",
        "  return xtrain,ytrain,xtest,ytest"
      ],
      "execution_count": 0,
      "outputs": []
    },
    {
      "cell_type": "code",
      "metadata": {
        "id": "nfFFhnKpQRfy",
        "colab_type": "code",
        "outputId": "0da73e88-7664-41fc-b5c1-b3ea16f9db40",
        "colab": {
          "base_uri": "https://localhost:8080/",
          "height": 51
        }
      },
      "source": [
        "X_train,Y_train,X_test,Y_test = split_dataset(X,Y)"
      ],
      "execution_count": 0,
      "outputs": [
        {
          "output_type": "stream",
          "text": [
            "484\n",
            "2449\n"
          ],
          "name": "stdout"
        }
      ]
    },
    {
      "cell_type": "code",
      "metadata": {
        "id": "mPjqH3dHSSY1",
        "colab_type": "code",
        "outputId": "932853bf-81e8-49f2-9c08-f95a03e31d76",
        "colab": {
          "base_uri": "https://localhost:8080/",
          "height": 34
        }
      },
      "source": [
        "X_train.shape"
      ],
      "execution_count": 0,
      "outputs": [
        {
          "output_type": "execute_result",
          "data": {
            "text/plain": [
              "(2449, 11)"
            ]
          },
          "metadata": {
            "tags": []
          },
          "execution_count": 26
        }
      ]
    },
    {
      "cell_type": "code",
      "metadata": {
        "id": "GDzsYXmGSaEx",
        "colab_type": "code",
        "outputId": "23008efc-075a-46e2-bc7d-ecafedac7b30",
        "colab": {
          "base_uri": "https://localhost:8080/",
          "height": 34
        }
      },
      "source": [
        "Y_train.shape"
      ],
      "execution_count": 0,
      "outputs": [
        {
          "output_type": "execute_result",
          "data": {
            "text/plain": [
              "(2449, 1)"
            ]
          },
          "metadata": {
            "tags": []
          },
          "execution_count": 27
        }
      ]
    },
    {
      "cell_type": "code",
      "metadata": {
        "id": "Cbm_BuzmSeAT",
        "colab_type": "code",
        "outputId": "dae112b8-68d0-4dbf-ab76-24a427da9aaa",
        "colab": {
          "base_uri": "https://localhost:8080/",
          "height": 34
        }
      },
      "source": [
        "X_test.shape"
      ],
      "execution_count": 0,
      "outputs": [
        {
          "output_type": "execute_result",
          "data": {
            "text/plain": [
              "(2449, 11)"
            ]
          },
          "metadata": {
            "tags": []
          },
          "execution_count": 28
        }
      ]
    },
    {
      "cell_type": "code",
      "metadata": {
        "id": "2DiQChLXShLU",
        "colab_type": "code",
        "outputId": "8f647bca-d0a7-4243-e24e-06212ac1e2c5",
        "colab": {
          "base_uri": "https://localhost:8080/",
          "height": 34
        }
      },
      "source": [
        "Y_test.shape"
      ],
      "execution_count": 0,
      "outputs": [
        {
          "output_type": "execute_result",
          "data": {
            "text/plain": [
              "(2449, 1)"
            ]
          },
          "metadata": {
            "tags": []
          },
          "execution_count": 29
        }
      ]
    },
    {
      "cell_type": "code",
      "metadata": {
        "id": "pEZmx_w2SjGY",
        "colab_type": "code",
        "colab": {}
      },
      "source": [
        "class linear_regressor():\n",
        "\n",
        "  #intialize\n",
        "\n",
        "  def __init__(self,inputsize,epochs=20,learning_rate= 0.1,batch_size=256):\n",
        "    self.lr = learning_rate\n",
        "    self.batch_size = batch_size\n",
        "    self.input_size = inputsize\n",
        "    self.epochs = epochs\n",
        "    \n",
        "    self.weights = np.random.randn(self.input_size,1)\n",
        "    self.bias = 0.0\n",
        "\n",
        "\n",
        "\n",
        "  #forward\n",
        "  def forward(self,x,y):\n",
        "    outputs = np.dot(x,self.weights) + self.bias\n",
        "    self.error = outputs-y\n",
        "    return outputs\n",
        "  #mse_loss\n",
        "\n",
        "  def mse_error(self):\n",
        "    return np.mean(np.square(self.error))\n",
        "\n",
        "  #compute gradient\n",
        "  def compute_gradient(self,x):\n",
        "    self.w_gradient = (np.dot(np.transpose(x),self.error)/x.shape[0]).reshape(-1,1)\n",
        "    self.bias_gradient = np.mean(self.error)\n",
        "\n",
        "  # update\n",
        "  def update(self):\n",
        "    self.weights = self.weights - self.lr*self.w_gradient\n",
        "    self.bias -= self.lr*(self.bias_gradient)\n",
        "\n",
        "  #shuffle\n",
        "  def shuffle(self,x,y):\n",
        "        length = len(y)\n",
        "        indices = np.arange(length)\n",
        "        np.random.shuffle(indices)\n",
        "        return x[indices],y[indices]\n",
        "\n",
        "  #train\n",
        "  def train(self,x,y):\n",
        "    for e in range(self.epochs):\n",
        "      x2,y2 = self.shuffle(x,y)\n",
        "      losses = []\n",
        "      for st_in in range(0,len(y),self.batch_size):\n",
        "        en_in = min(len(y),st_in + self.batch_size)\n",
        "        x_batch = x2[st_in:en_in]\n",
        "        y_batch = y2[st_in:en_in]\n",
        "\n",
        "        pred = self.forward(x_batch,y_batch)\n",
        "        losses.append(self.mse_error())\n",
        "        self.compute_gradient(x_batch)\n",
        "        self.update()\n",
        "      print(\"epoch : \",e)\n",
        "      print(\"Loss : \",np.mean(losses))\n",
        "\n",
        "\n",
        "  #test\n",
        "  def test(self,x,y,tau):\n",
        "        #tau decide how much error from actual value we can sustain\n",
        "        losses = []\n",
        "        correct = 0\n",
        "        for st_index in (range(0,len(y),self.batch_size)):\n",
        "            end_index = min(len(y),st_index+self.batch_size)\n",
        "            x_batch = x[st_index:end_index]\n",
        "            y_batch = y[st_index:end_index]\n",
        "            pred = self.forward(x_batch,y_batch)\n",
        "            losses.append(self.mse_error())\n",
        "            for err in self.error:\n",
        "                if abs(err)<=tau:\n",
        "                    correct +=1\n",
        "        print(\"Mean Square Error: \",np.mean(losses))\n",
        "        print(\"Accuracy over test set  :\",round(correct/len(y),3))"
      ],
      "execution_count": 0,
      "outputs": []
    },
    {
      "cell_type": "code",
      "metadata": {
        "id": "1URPbja9fM4e",
        "colab_type": "code",
        "colab": {}
      },
      "source": [
        "model1 = linear_regressor(11)"
      ],
      "execution_count": 0,
      "outputs": []
    },
    {
      "cell_type": "code",
      "metadata": {
        "id": "d9_qXDxlfSUr",
        "colab_type": "code",
        "outputId": "e00ad06f-7742-430c-cd80-f5e286682da6",
        "colab": {
          "base_uri": "https://localhost:8080/",
          "height": 697
        }
      },
      "source": [
        "model1.train(X_train,Y_train)"
      ],
      "execution_count": 0,
      "outputs": [
        {
          "output_type": "stream",
          "text": [
            "epoch :  0\n",
            "Loss :  17.141412723124297\n",
            "epoch :  1\n",
            "Loss :  3.4170792956404568\n",
            "epoch :  2\n",
            "Loss :  1.429450176143387\n",
            "epoch :  3\n",
            "Loss :  0.8925907109598681\n",
            "epoch :  4\n",
            "Loss :  0.6848162056624838\n",
            "epoch :  5\n",
            "Loss :  0.5953516864301605\n",
            "epoch :  6\n",
            "Loss :  0.561924793260824\n",
            "epoch :  7\n",
            "Loss :  0.5444704164211738\n",
            "epoch :  8\n",
            "Loss :  0.5322398126311769\n",
            "epoch :  9\n",
            "Loss :  0.5345789253520363\n",
            "epoch :  10\n",
            "Loss :  0.5380711476993371\n",
            "epoch :  11\n",
            "Loss :  0.5316613928629728\n",
            "epoch :  12\n",
            "Loss :  0.5256445965181784\n",
            "epoch :  13\n",
            "Loss :  0.5289063184634325\n",
            "epoch :  14\n",
            "Loss :  0.530990454542446\n",
            "epoch :  15\n",
            "Loss :  0.5213784193830329\n",
            "epoch :  16\n",
            "Loss :  0.5297447776544969\n",
            "epoch :  17\n",
            "Loss :  0.5212930214125802\n",
            "epoch :  18\n",
            "Loss :  0.5275126042638777\n",
            "epoch :  19\n",
            "Loss :  0.5262972028078075\n"
          ],
          "name": "stdout"
        }
      ]
    },
    {
      "cell_type": "code",
      "metadata": {
        "id": "Hs0-fdkefUaT",
        "colab_type": "code",
        "outputId": "eca5c9e4-de0e-41c3-b010-44f6df74fb0a",
        "colab": {
          "base_uri": "https://localhost:8080/",
          "height": 204
        }
      },
      "source": [
        "model1.weights"
      ],
      "execution_count": 0,
      "outputs": [
        {
          "output_type": "execute_result",
          "data": {
            "text/plain": [
              "array([[-0.00176844],\n",
              "       [-0.18831874],\n",
              "       [-0.00414278],\n",
              "       [ 0.4101959 ],\n",
              "       [-0.01724389],\n",
              "       [ 0.04460443],\n",
              "       [-0.0246504 ],\n",
              "       [-0.43433847],\n",
              "       [ 0.02260811],\n",
              "       [ 0.05418922],\n",
              "       [ 0.19695899]])"
            ]
          },
          "metadata": {
            "tags": []
          },
          "execution_count": 33
        }
      ]
    },
    {
      "cell_type": "code",
      "metadata": {
        "id": "RBJf9XqVfXDZ",
        "colab_type": "code",
        "outputId": "fc2b1dc1-4c34-44dd-cdcb-ff95aae47d02",
        "colab": {
          "base_uri": "https://localhost:8080/",
          "height": 51
        }
      },
      "source": [
        "model1.test(X_train,Y_train,1)"
      ],
      "execution_count": 0,
      "outputs": [
        {
          "output_type": "stream",
          "text": [
            "Mean Square Error:  0.5207184127988106\n",
            "Accuracy over test set  : 0.862\n"
          ],
          "name": "stdout"
        }
      ]
    },
    {
      "cell_type": "code",
      "metadata": {
        "id": "VOVL-1V8hwA_",
        "colab_type": "code",
        "outputId": "7ccdfd49-188b-4325-9799-c70e468d3b73",
        "colab": {
          "base_uri": "https://localhost:8080/",
          "height": 51
        }
      },
      "source": [
        "model1.test(X_test,Y_test,1)"
      ],
      "execution_count": 0,
      "outputs": [
        {
          "output_type": "stream",
          "text": [
            "Mean Square Error:  0.626757679401056\n",
            "Accuracy over test set  : 0.818\n"
          ],
          "name": "stdout"
        }
      ]
    },
    {
      "cell_type": "code",
      "metadata": {
        "id": "FTe4QC6dh9ww",
        "colab_type": "code",
        "colab": {}
      },
      "source": [
        ""
      ],
      "execution_count": 0,
      "outputs": []
    }
  ]
}